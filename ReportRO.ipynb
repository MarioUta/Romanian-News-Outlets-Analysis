{
 "cells": [
  {
   "cell_type": "markdown",
   "id": "9b826fdb-0af1-4b90-b5f8-270d125fe4e5",
   "metadata": {},
   "source": [
    "<h1>Analiza titlurilor articolelor ale site-urilor românești de știri </h1>\n",
    "<h3>-Mario Ernest Uță</h3>\n",
    "<br/>\n",
    "<h4> Prin această lucrare se dorește analiza titlurilor articolelor apărute pe unele dintre cele mai populare site-uri de știri din România: Digi24, ProTV și Observator. Analiza titlurilor constă în căutarea anumitor cuvinte cheie în titlurile articolelor, pentru a observa dacă există o creștere a utilizării acestora în anumite perioade de timp și pentru a determina dacă utilizarea frecventă a acestor cuvinte in titlurile de știri indică o schimbare în ceea ce privește PIB cap de locuitor în România.</h4>\n",
    "\n",
    "\n",
    "<h4> Lista cuvintelor cheie* este compusă din cuvinte care au, în general, o conotație negativă, ce ar putea indica o scădere a nivelului de trai. Aceste cuvinte au fost împarțite in 3 categorii:</h4>\n",
    "<ul>\n",
    "    <li>Economic. Cuvinte legate de economia țării sau de veniturile oamenilor(ex: inflație, recesiune, deficit)</li>\n",
    "    <li>Război/Tragedie. Cuvinte legate de conflicte armate sau de catastrofe (ex: bombardament, explozie, victime) </li>\n",
    "    <li>Pandemie. Cuvinte legate de pandemia de COVID-19(ex: carantină, coronavirus, restricții)</li>\n",
    "    \n",
    "</ul>\n",
    "\n",
    "<h4>Pentru colectarea informațiilor, s-au folosit mai multe script-uri Python care analizează titlurile articolelor de știri și salvează cuvintele cheie găsite în fiecare titlu în parte. S-au analizat următoarele categorii de știri pentru fiecare site:</h4>\n",
    "<ul>\n",
    "    <li>Digi24. Categorii: \"Ultimele știri\".Număr articole: 366,851. Perioada:2012-2024</li>\n",
    "    <li>ProTV. Categorii: \"Politic\",\"Financiar\",\"Social\",\"Internațional\".Număr articole: 163,656. Perioada: 2008-2024 </li>\n",
    "    <li>Observator. Categorii: \"Politic\",\"Economic\",\"Extern\",\"Internațional\".Număr articole: 106,596. Perioada:2010-2024</li>\n",
    "    <li>Număr total articole: 637,103</li>\n",
    "</ul>\n",
    "<h4>Datele au fost salvate în formatul .csv, cu coloanele**: </h4>\n",
    "    <ul>\n",
    "        <li>link_articol:  Indică link-ul articolului</li>\n",
    "        <li>platforma:     Indică site-ul de știri unde a fost publicat articolul</li>\n",
    "        <li>data:          Data publicării articolului</li>\n",
    "        <li>cuvinte_cheie: Lista de cuvinte cheie găsite in titlul articolului</li>\n",
    "    </ul>\n",
    "\n",
    "<h4>Pentru ilustrarea datelor se va folosi librăria Python Matplotlib</h4>\n"
   ]
  },
  {
   "cell_type": "code",
   "execution_count": 1,
   "id": "26811bce-09c9-42f9-b76e-1abb016e2bac",
   "metadata": {},
   "outputs": [],
   "source": [
    "import matplotlib.pyplot as plt"
   ]
  },
  {
   "cell_type": "markdown",
   "id": "50a79e8f-c61a-4be7-88a7-c3686e85693c",
   "metadata": {},
   "source": [
    "<h4>Procesam datele obținute pentru a le putea ilustra</h4>"
   ]
  },
  {
   "cell_type": "code",
   "execution_count": 2,
   "id": "4756964f-0ebe-4cf2-911f-1eaab4433fd5",
   "metadata": {},
   "outputs": [],
   "source": [
    "with open(\"Database/digi24.csv\", \"r\") as f:\n",
    "    f.readline()\n",
    "    digi=[x.split(\",\") for x in f.readlines()]\n",
    "\n",
    "with open(\"Database/protv.csv\", \"r\") as f:\n",
    "    f.readline()\n",
    "    protv=[x.split(\",\") for x in f.readlines()]\n",
    "\n",
    "with open(\"Database/observator.csv\", \"r\") as f:\n",
    "    f.readline()\n",
    "    observator=[x.split(\",\") for x in f.readlines()]"
   ]
  },
  {
   "cell_type": "markdown",
   "id": "ba36de5f-b199-4dec-854d-ef6e33618745",
   "metadata": {},
   "source": [
    "<h4>Procesam datele de la Banca Mondială pentru a afla evoluția PIB pe cap de locuitor în România***[1] </h4>\n"
   ]
  },
  {
   "cell_type": "code",
   "execution_count": 3,
   "id": "50394202-fb0e-4cfb-9702-120d7ec24ef3",
   "metadata": {},
   "outputs": [],
   "source": [
    "with open(\"Database/WORLD_BANK_GDP_PER_CAPITA.csv\",\"r\") as f:\n",
    "    [f.readline() for x in range(4)]\n",
    "    header=[x.strip('\"') for x in f.readline().split(\",\")]\n",
    "    l=[x.split(\",\") for x in f.readlines()]\n",
    "\n",
    "romaniaGDPCapita=l[201]\n",
    "romaniaGDPCapitaRelevant=[round(float(x.strip('\"')),2) for x ,y in zip(romaniaGDPCapita,header) if y.isnumeric() and int(y)>=2007]"
   ]
  },
  {
   "cell_type": "markdown",
   "id": "e959d508-d785-4e40-84c9-e83ab4cf927a",
   "metadata": {},
   "source": [
    "<h4>Construim lista cu cuvinte cheie</h4>"
   ]
  },
  {
   "cell_type": "code",
   "execution_count": 4,
   "id": "29f67752-ab4f-4e3c-a3a0-bd2550659218",
   "metadata": {},
   "outputs": [],
   "source": [
    "with open(\"badwords.txt\",\"r\") as f:\n",
    "    badwords=f.readlines()\n",
    "    badwords=[x.rstrip() for x in badwords if x[0]!= \"#\"]"
   ]
  },
  {
   "cell_type": "markdown",
   "id": "d54b8f43-f17f-4c23-8bbc-25f8ab374866",
   "metadata": {},
   "source": [
    "<h4>Construim două dicționare pentru fiecare site de știri analizat. Dicționarul year_ va reține numărul de articole dintr-un an, iar dicționarul word_ va reține numărul de apariții al cuvintelor cheie în titlurile articolelor din fiecare an</h4>\n"
   ]
  },
  {
   "cell_type": "code",
   "execution_count": 5,
   "id": "7b0d4182-1705-4c60-b874-b14f276d6f84",
   "metadata": {},
   "outputs": [],
   "source": [
    "yearDigi={str(x):0 for x in range(1999,2025)}\n",
    "wordsDigi={str(x):0 for x in range(1999,2025)}\n",
    "\n",
    "yearProTv={str(x):0 for x in range(1999,2025)}\n",
    "wordsProTv={str(x):0 for x in range(1999,2025)}\n",
    "\n",
    "yearObservator={str(x):0 for x in range(1999,2025)}\n",
    "wordsObservator={str(x):0 for x in range(1999,2025)}"
   ]
  },
  {
   "cell_type": "markdown",
   "id": "ba24f287-067c-4651-ad59-268c43ede956",
   "metadata": {},
   "source": [
    "<h4>Aflăm numărul articolelor din fiecare an și numărul de apariții al cuvintelor cheie în titlurile articolelor din fiecare an</h4>"
   ]
  },
  {
   "cell_type": "code",
   "execution_count": 6,
   "id": "c38ad1a7-d2a3-47c2-be25-92c5046f7270",
   "metadata": {},
   "outputs": [],
   "source": [
    "for i in digi:\n",
    "    date=i[2].split('.')\n",
    "    yearDigi[date[2]]+=1\n",
    "    for cuv in badwords:\n",
    "        if(cuv in i[3]):\n",
    "            wordsDigi[date[2]]+=1\n",
    "\n",
    "for i in protv:\n",
    "    date=i[2].split('.')\n",
    "    yearProTv[date[2]]+=1\n",
    "    for cuv in badwords:\n",
    "        if(cuv in i[3]):\n",
    "            wordsProTv[date[2]]+=1\n",
    "\n",
    "for i in observator:\n",
    "    date=i[2].split('.')\n",
    "    yearObservator[date[2]]+=1\n",
    "    for cuv in badwords:\n",
    "        if(cuv in i[3]):\n",
    "            wordsObservator[date[2]]+=1"
   ]
  },
  {
   "cell_type": "markdown",
   "id": "c6350430-bfe5-467b-9bca-6292ea4527b3",
   "metadata": {},
   "source": [
    "<h4>Facem raportul dintre numărul de cuvinte cheie apărut in titlurile articolelor din fiecare an și numărul de articole din fiecare an</h4>"
   ]
  },
  {
   "cell_type": "code",
   "execution_count": 7,
   "id": "24a98629-962c-4949-b321-63678c3b5fc1",
   "metadata": {},
   "outputs": [],
   "source": [
    "dataDigi=[round(wordsDigi[str(i)]/yearDigi[str(i)],2) for i in range (1999,2025) if yearDigi[str(i)]]\n",
    "dataProTv=[round(wordsProTv[str(i)]/yearProTv[str(i)],2) for i in range (1999,2025) if yearProTv[str(i)]]\n",
    "dataObs=[round(wordsObservator[str(i)]/yearObservator[str(i)],2) for i in range (1999,2025) if yearObservator[str(i)]]"
   ]
  },
  {
   "cell_type": "markdown",
   "id": "35cefdbb-7041-4847-9502-0660447663ef",
   "metadata": {},
   "source": [
    "<h4>Construim graficele</h4>"
   ]
  },
  {
   "cell_type": "code",
   "execution_count": 10,
   "id": "771e180e-6c58-4beb-802f-961a5b73803c",
   "metadata": {},
   "outputs": [],
   "source": [
    "plt.figure(num=0,dpi=80)\n",
    "plt.plot([x for x in range(2012,2025)],dataDigi,label=\"Digi24\")\n",
    "plt.plot([x for x in range(2010,2025)],dataObs,label=\"Observator\")\n",
    "plt.plot([x for x in range(2008,2025)],dataProTv,label=\"ProTV\")\n",
    "plt.xlabel(\"An\")\n",
    "plt.title(\"Evoluția numărului de cuvinte cheie per articol\")\n",
    "plt.ylabel(\"Numarul mediu de cuvinte cheie per articol\")\n",
    "plt.legend()\n",
    "plt.savefig('Graphs/News.jpg')\n",
    "plt.close()"
   ]
  },
  {
   "cell_type": "code",
   "execution_count": 11,
   "id": "32834194-e4f5-4d67-8c40-2400a3c24e49",
   "metadata": {},
   "outputs": [],
   "source": [
    "plt.figure(num=0,dpi=80)\n",
    "plt.plot([x for x in range(2007,2023)],romaniaGDPCapitaRelevant,color=\"purple\")\n",
    "plt.xlabel(\"An\")\n",
    "plt.ylabel(\"PIB pe cap de locuitor (USD)\")\n",
    "plt.title(\"Evoluția PIB pe cap de locuitor în România\")\n",
    "plt.savefig('Graphs/GDP.jpg')\n",
    "plt.close()"
   ]
  },
  {
   "cell_type": "markdown",
   "id": "9d907674-cdc8-42b6-91fa-964ccb80e480",
   "metadata": {},
   "source": [
    "<nav><img src=\"Graphs/News.jpg\">\n",
    "<img src=\"Graphs/GDP.jpg\"></nav>\n"
   ]
  },
  {
   "cell_type": "markdown",
   "id": "8073c845-73cf-44c5-94f7-70e51b846c51",
   "metadata": {},
   "source": [
    "<h4>Din graficele anterioare se pot trage următoarele concluzii:</h4>\n",
    "<ul> \n",
    "    <li>O creștere a numărului de cuvinte cheie folosite pe titlu de articol nu indică vreo scădere în PIB pe cap de locuitor</li>\n",
    "    <li>O creștere considerabilă a numărului de cuvinte cheie folosite per titlu de articol în ultimii ani, fapt ce poate fi explicat de pandemia de COVID-19(2019) si de războiul ruso-ucrainean(2022)</li>\n",
    "    <li>Toate cele trei posturi de știri au graficul extrem de asemănător, ceea ce indică o similiaritate a subiectelor abordate de cele trei posturi de știri</li>\n",
    "</ul>"
   ]
  },
  {
   "cell_type": "markdown",
   "id": "69135e32-0dd6-4385-82f2-13edc3d22cc3",
   "metadata": {},
   "source": [
    "<br/>\n",
    "<h6>*  Lista cuvintelor cheie este fișierul badwords.txt din repository-ul hhttps://github.com/MarioUta/Romanian-News-Outlets-Analysis</h6>\n",
    "<h6>** Datele se găsesc in directorul Database din repository-ul hhttps://github.com/MarioUta/Romanian-News-Outlets-Analysis</h6>\n",
    "<h6>***Datele furnizate de Banca Mondială sunt până în anul 2022</h6>"
   ]
  },
  {
   "cell_type": "markdown",
   "id": "ed2e63dd-fffd-4aa9-b111-df5b6181bb3d",
   "metadata": {},
   "source": [
    "<br/>\n",
    "<h6>[1]World Bank. (n.d.). GDP per capita (current US$) - romania | data. https://data.worldbank.org/indicator/NY.GDP.PCAP.CD?locations=SA/1000-RO </h6>\n"
   ]
  }
 ],
 "metadata": {
  "kernelspec": {
   "display_name": "Python 3 (ipykernel)",
   "language": "python",
   "name": "python3"
  },
  "language_info": {
   "codemirror_mode": {
    "name": "ipython",
    "version": 3
   },
   "file_extension": ".py",
   "mimetype": "text/x-python",
   "name": "python",
   "nbconvert_exporter": "python",
   "pygments_lexer": "ipython3",
   "version": "3.11.8"
  }
 },
 "nbformat": 4,
 "nbformat_minor": 5
}
